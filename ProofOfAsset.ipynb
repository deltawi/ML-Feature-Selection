{
 "cells": [
  {
   "cell_type": "markdown",
   "metadata": {},
   "source": [
    "## Import and Setup"
   ]
  },
  {
   "cell_type": "code",
   "execution_count": 116,
   "metadata": {},
   "outputs": [
    {
     "name": "stdout",
     "output_type": "stream",
     "text": [
      "Obtaining file:///C:/Users/AlphaDiallo/AlphaDoc/job/Total/test_asset/MLFeatureSelection\n",
      "Requirement already satisfied: pip in c:\\users\\alphadiallo\\anaconda3\\envs\\deeplearning\\lib\\site-packages (from FeatureSelector==0.0.0) (19.2.2)\n",
      "Requirement already satisfied: logzero in c:\\users\\alphadiallo\\anaconda3\\envs\\deeplearning\\lib\\site-packages (from FeatureSelector==0.0.0) (1.6.2)\n",
      "Requirement already satisfied: pandas in c:\\users\\alphadiallo\\anaconda3\\envs\\deeplearning\\lib\\site-packages (from FeatureSelector==0.0.0) (1.0.3)\n",
      "Requirement already satisfied: scikit_learn in c:\\users\\alphadiallo\\anaconda3\\envs\\deeplearning\\lib\\site-packages (from FeatureSelector==0.0.0) (0.22.2.post1)\n",
      "Requirement already satisfied: colorama; sys_platform == \"win32\" in c:\\users\\alphadiallo\\anaconda3\\envs\\deeplearning\\lib\\site-packages (from logzero->FeatureSelector==0.0.0) (0.4.1)\n",
      "Requirement already satisfied: numpy>=1.13.3 in c:\\users\\alphadiallo\\anaconda3\\envs\\deeplearning\\lib\\site-packages (from pandas->FeatureSelector==0.0.0) (1.19.0)\n",
      "Requirement already satisfied: python-dateutil>=2.6.1 in c:\\users\\alphadiallo\\anaconda3\\envs\\deeplearning\\lib\\site-packages (from pandas->FeatureSelector==0.0.0) (2.8.0)\n",
      "Requirement already satisfied: pytz>=2017.2 in c:\\users\\alphadiallo\\anaconda3\\envs\\deeplearning\\lib\\site-packages (from pandas->FeatureSelector==0.0.0) (2019.2)\n",
      "Requirement already satisfied: joblib>=0.11 in c:\\users\\alphadiallo\\anaconda3\\envs\\deeplearning\\lib\\site-packages (from scikit_learn->FeatureSelector==0.0.0) (0.14.1)\n",
      "Requirement already satisfied: scipy>=0.17.0 in c:\\users\\alphadiallo\\anaconda3\\envs\\deeplearning\\lib\\site-packages (from scikit_learn->FeatureSelector==0.0.0) (1.4.1)\n",
      "Requirement already satisfied: six>=1.5 in c:\\users\\alphadiallo\\anaconda3\\envs\\deeplearning\\lib\\site-packages (from python-dateutil>=2.6.1->pandas->FeatureSelector==0.0.0) (1.12.0)\n",
      "Installing collected packages: FeatureSelector\n",
      "  Found existing installation: FeatureSelector 0.0.0\n",
      "    Uninstalling FeatureSelector-0.0.0:\n",
      "      Successfully uninstalled FeatureSelector-0.0.0\n",
      "  Running setup.py develop for FeatureSelector\n",
      "Successfully installed FeatureSelector\n"
     ]
    }
   ],
   "source": [
    "!pip install -e ../"
   ]
  },
  {
   "cell_type": "code",
   "execution_count": 65,
   "metadata": {},
   "outputs": [],
   "source": [
    "from FeatureSelection import FeatureSelector\n",
    "from sklearn.ensemble import RandomForestClassifier\n",
    "from sklearn.datasets import make_classification\n",
    "import pandas as pd\n",
    "import matplotlib.pyplot as plt\n",
    "import seaborn as sns\n",
    "import logging\n",
    "import numpy as np"
   ]
  },
  {
   "cell_type": "code",
   "execution_count": 49,
   "metadata": {},
   "outputs": [
    {
     "data": {
      "text/plain": [
       "((1000, 2), (1000,))"
      ]
     },
     "execution_count": 49,
     "metadata": {},
     "output_type": "execute_result"
    }
   ],
   "source": [
    "X, y = make_classification(n_samples=1000, n_features=2,n_informative=2, n_redundant=0,random_state=0, shuffle=False)\n",
    "X.shape,y.shape"
   ]
  },
  {
   "cell_type": "code",
   "execution_count": 50,
   "metadata": {},
   "outputs": [],
   "source": [
    "def build_df(X,y, save_df=True):\n",
    "    data = {}\n",
    "    for col in range(X.shape[1]):\n",
    "        data[f'col_{col}'] = X[:,col]\n",
    "    data['y'] = y\n",
    "    df = pd.DataFrame (data)\n",
    "    if save_df:\n",
    "        df.to_csv('test_dataset.csv', index=False)\n",
    "    return df"
   ]
  },
  {
   "cell_type": "code",
   "execution_count": 51,
   "metadata": {},
   "outputs": [
    {
     "data": {
      "text/html": [
       "<div>\n",
       "<style scoped>\n",
       "    .dataframe tbody tr th:only-of-type {\n",
       "        vertical-align: middle;\n",
       "    }\n",
       "\n",
       "    .dataframe tbody tr th {\n",
       "        vertical-align: top;\n",
       "    }\n",
       "\n",
       "    .dataframe thead th {\n",
       "        text-align: right;\n",
       "    }\n",
       "</style>\n",
       "<table border=\"1\" class=\"dataframe\">\n",
       "  <thead>\n",
       "    <tr style=\"text-align: right;\">\n",
       "      <th></th>\n",
       "      <th>col_0</th>\n",
       "      <th>col_1</th>\n",
       "      <th>y</th>\n",
       "    </tr>\n",
       "  </thead>\n",
       "  <tbody>\n",
       "    <tr>\n",
       "      <th>0</th>\n",
       "      <td>-1.668532</td>\n",
       "      <td>-1.299013</td>\n",
       "      <td>0</td>\n",
       "    </tr>\n",
       "    <tr>\n",
       "      <th>1</th>\n",
       "      <td>-2.972883</td>\n",
       "      <td>-1.088783</td>\n",
       "      <td>0</td>\n",
       "    </tr>\n",
       "    <tr>\n",
       "      <th>2</th>\n",
       "      <td>-0.596141</td>\n",
       "      <td>-1.370070</td>\n",
       "      <td>0</td>\n",
       "    </tr>\n",
       "    <tr>\n",
       "      <th>3</th>\n",
       "      <td>-1.068947</td>\n",
       "      <td>-1.175057</td>\n",
       "      <td>0</td>\n",
       "    </tr>\n",
       "    <tr>\n",
       "      <th>4</th>\n",
       "      <td>-1.305269</td>\n",
       "      <td>-0.965926</td>\n",
       "      <td>0</td>\n",
       "    </tr>\n",
       "  </tbody>\n",
       "</table>\n",
       "</div>"
      ],
      "text/plain": [
       "      col_0     col_1  y\n",
       "0 -1.668532 -1.299013  0\n",
       "1 -2.972883 -1.088783  0\n",
       "2 -0.596141 -1.370070  0\n",
       "3 -1.068947 -1.175057  0\n",
       "4 -1.305269 -0.965926  0"
      ]
     },
     "execution_count": 51,
     "metadata": {},
     "output_type": "execute_result"
    }
   ],
   "source": [
    "df = build_df(X,y, save_df=False)\n",
    "df.head()"
   ]
  },
  {
   "cell_type": "code",
   "execution_count": 59,
   "metadata": {},
   "outputs": [],
   "source": [
    "sns.set_style(\"whitegrid\")\n",
    "def plot(df, x,y):\n",
    "    sns.FacetGrid(df, hue=\"y\", height=4).map(plt.scatter, x, y).add_legend()\n",
    "    plt.show()"
   ]
  },
  {
   "cell_type": "code",
   "execution_count": 60,
   "metadata": {},
   "outputs": [
    {
     "data": {
      "image/png": "[encoded data removed]",
      "text/plain": [
       "<Figure size 329.625x288 with 1 Axes>"
      ]
     },
     "metadata": {},
     "output_type": "display_data"
    }
   ],
   "source": [
    "plot(df,'col_0', 'col_1')"
   ]
  },
  {
   "cell_type": "markdown",
   "metadata": {},
   "source": [
    "## Starting test FeatureSelector with source df"
   ]
  },
  {
   "cell_type": "code",
   "execution_count": 9,
   "metadata": {},
   "outputs": [],
   "source": [
    "#inherits  FeatureSelection\n",
    "class testFeatureSelector(FeatureSelector):\n",
    "    def __init__(self, df, target_col, log_level=logging.INFO):\n",
    "        FeatureSelector.__init__(self, df, target_col, log_level=logging.INFO)\n",
    "        \n",
    "    def build_model(self):\n",
    "        \"\"\"\n",
    "        Define your model here and return a model instance that implements \"fit\" method\n",
    "        \"\"\"\n",
    "        clf = RandomForestClassifier(max_depth=2, random_state=0)\n",
    "        return clf\n"
   ]
  },
  {
   "cell_type": "code",
   "execution_count": 53,
   "metadata": {},
   "outputs": [
    {
     "name": "stderr",
     "output_type": "stream",
     "text": [
      "ERROR:root:The type of model used <class 'sklearn.ensemble._forest.RandomForestClassifier'> is not supported for fast_version, the classic version will be re-activated.\n",
      "[I 201030 13:02:58 __init__:145] Starting score 0.9467633467252557\n"
     ]
    },
    {
     "name": "stdout",
     "output_type": "stream",
     "text": [
      "Wall time: 4.4 s\n"
     ]
    }
   ],
   "source": [
    "%%time\n",
    "f = testFeatureSelector(df=df, target_col='y', log_level=logging.INFO)\n",
    "list_kept_features = f.featureSelectionCV(small_is_better=False, scoring_metric='f1', cv=5)\n"
   ]
  },
  {
   "cell_type": "code",
   "execution_count": 54,
   "metadata": {},
   "outputs": [
    {
     "data": {
      "text/plain": [
       "Index(['col_0', 'col_1'], dtype='object')"
      ]
     },
     "execution_count": 54,
     "metadata": {},
     "output_type": "execute_result"
    }
   ],
   "source": [
    "list_kept_features"
   ]
  },
  {
   "cell_type": "markdown",
   "metadata": {},
   "source": [
    "## Let duplicate one col and see the FeatureSelector result"
   ]
  },
  {
   "cell_type": "code",
   "execution_count": 55,
   "metadata": {},
   "outputs": [
    {
     "data": {
      "text/html": [
       "<div>\n",
       "<style scoped>\n",
       "    .dataframe tbody tr th:only-of-type {\n",
       "        vertical-align: middle;\n",
       "    }\n",
       "\n",
       "    .dataframe tbody tr th {\n",
       "        vertical-align: top;\n",
       "    }\n",
       "\n",
       "    .dataframe thead th {\n",
       "        text-align: right;\n",
       "    }\n",
       "</style>\n",
       "<table border=\"1\" class=\"dataframe\">\n",
       "  <thead>\n",
       "    <tr style=\"text-align: right;\">\n",
       "      <th></th>\n",
       "      <th>col_0</th>\n",
       "      <th>col_1</th>\n",
       "      <th>y</th>\n",
       "      <th>col_2</th>\n",
       "    </tr>\n",
       "  </thead>\n",
       "  <tbody>\n",
       "    <tr>\n",
       "      <th>0</th>\n",
       "      <td>-1.668532</td>\n",
       "      <td>-1.299013</td>\n",
       "      <td>0</td>\n",
       "      <td>-1.668532</td>\n",
       "    </tr>\n",
       "    <tr>\n",
       "      <th>1</th>\n",
       "      <td>-2.972883</td>\n",
       "      <td>-1.088783</td>\n",
       "      <td>0</td>\n",
       "      <td>-2.972883</td>\n",
       "    </tr>\n",
       "    <tr>\n",
       "      <th>2</th>\n",
       "      <td>-0.596141</td>\n",
       "      <td>-1.370070</td>\n",
       "      <td>0</td>\n",
       "      <td>-0.596141</td>\n",
       "    </tr>\n",
       "    <tr>\n",
       "      <th>3</th>\n",
       "      <td>-1.068947</td>\n",
       "      <td>-1.175057</td>\n",
       "      <td>0</td>\n",
       "      <td>-1.068947</td>\n",
       "    </tr>\n",
       "    <tr>\n",
       "      <th>4</th>\n",
       "      <td>-1.305269</td>\n",
       "      <td>-0.965926</td>\n",
       "      <td>0</td>\n",
       "      <td>-1.305269</td>\n",
       "    </tr>\n",
       "  </tbody>\n",
       "</table>\n",
       "</div>"
      ],
      "text/plain": [
       "      col_0     col_1  y     col_2\n",
       "0 -1.668532 -1.299013  0 -1.668532\n",
       "1 -2.972883 -1.088783  0 -2.972883\n",
       "2 -0.596141 -1.370070  0 -0.596141\n",
       "3 -1.068947 -1.175057  0 -1.068947\n",
       "4 -1.305269 -0.965926  0 -1.305269"
      ]
     },
     "execution_count": 55,
     "metadata": {},
     "output_type": "execute_result"
    }
   ],
   "source": [
    "df['col_2'] = df['col_0']\n",
    "df.head()"
   ]
  },
  {
   "cell_type": "code",
   "execution_count": 62,
   "metadata": {},
   "outputs": [
    {
     "name": "stderr",
     "output_type": "stream",
     "text": [
      "ERROR:root:The type of model used <class 'sklearn.ensemble._forest.RandomForestClassifier'> is not supported for fast_version, the classic version will be re-activated.\n",
      "[I 201030 13:07:41 __init__:145] Starting score 0.9481231099372197\n",
      "[I 201030 13:07:43 __init__:167] New base line score: 0.9481231099372197\n"
     ]
    },
    {
     "name": "stdout",
     "output_type": "stream",
     "text": [
      "Wall time: 6.47 s\n"
     ]
    }
   ],
   "source": [
    "%%time\n",
    "f = testFeatureSelector(df=df, target_col='y', log_level=logging.INFO)\n",
    "list_kept_features = f.featureSelectionCV(small_is_better=False, scoring_metric='f1', cv=5)\n"
   ]
  },
  {
   "cell_type": "code",
   "execution_count": 63,
   "metadata": {},
   "outputs": [
    {
     "data": {
      "text/plain": [
       "Index(['col_1', 'col_2'], dtype='object')"
      ]
     },
     "execution_count": 63,
     "metadata": {},
     "output_type": "execute_result"
    }
   ],
   "source": [
    "list_kept_features"
   ]
  },
  {
   "cell_type": "markdown",
   "metadata": {},
   "source": [
    "<b> we can see that col_0 has been removed bacause col_0==col_2 </b>"
   ]
  },
  {
   "cell_type": "markdown",
   "metadata": {},
   "source": [
    "## Let add cols with random values and see the FeatureSelector result"
   ]
  },
  {
   "cell_type": "code",
   "execution_count": 110,
   "metadata": {},
   "outputs": [
    {
     "data": {
      "text/html": [
       "<div>\n",
       "<style scoped>\n",
       "    .dataframe tbody tr th:only-of-type {\n",
       "        vertical-align: middle;\n",
       "    }\n",
       "\n",
       "    .dataframe tbody tr th {\n",
       "        vertical-align: top;\n",
       "    }\n",
       "\n",
       "    .dataframe thead th {\n",
       "        text-align: right;\n",
       "    }\n",
       "</style>\n",
       "<table border=\"1\" class=\"dataframe\">\n",
       "  <thead>\n",
       "    <tr style=\"text-align: right;\">\n",
       "      <th></th>\n",
       "      <th>col_0</th>\n",
       "      <th>col_1</th>\n",
       "      <th>y</th>\n",
       "      <th>col_2</th>\n",
       "      <th>col_3</th>\n",
       "    </tr>\n",
       "  </thead>\n",
       "  <tbody>\n",
       "    <tr>\n",
       "      <th>0</th>\n",
       "      <td>-1.668532</td>\n",
       "      <td>-1.299013</td>\n",
       "      <td>0</td>\n",
       "      <td>-1.850883</td>\n",
       "      <td>1.718625</td>\n",
       "    </tr>\n",
       "    <tr>\n",
       "      <th>1</th>\n",
       "      <td>-2.972883</td>\n",
       "      <td>-1.088783</td>\n",
       "      <td>0</td>\n",
       "      <td>0.732653</td>\n",
       "      <td>0.936858</td>\n",
       "    </tr>\n",
       "    <tr>\n",
       "      <th>2</th>\n",
       "      <td>-0.596141</td>\n",
       "      <td>-1.370070</td>\n",
       "      <td>0</td>\n",
       "      <td>-0.373634</td>\n",
       "      <td>2.573068</td>\n",
       "    </tr>\n",
       "    <tr>\n",
       "      <th>3</th>\n",
       "      <td>-1.068947</td>\n",
       "      <td>-1.175057</td>\n",
       "      <td>0</td>\n",
       "      <td>1.712152</td>\n",
       "      <td>2.174683</td>\n",
       "    </tr>\n",
       "    <tr>\n",
       "      <th>4</th>\n",
       "      <td>-1.305269</td>\n",
       "      <td>-0.965926</td>\n",
       "      <td>0</td>\n",
       "      <td>1.679855</td>\n",
       "      <td>1.189683</td>\n",
       "    </tr>\n",
       "  </tbody>\n",
       "</table>\n",
       "</div>"
      ],
      "text/plain": [
       "      col_0     col_1  y     col_2     col_3\n",
       "0 -1.668532 -1.299013  0 -1.850883  1.718625\n",
       "1 -2.972883 -1.088783  0  0.732653  0.936858\n",
       "2 -0.596141 -1.370070  0 -0.373634  2.573068\n",
       "3 -1.068947 -1.175057  0  1.712152  2.174683\n",
       "4 -1.305269 -0.965926  0  1.679855  1.189683"
      ]
     },
     "metadata": {},
     "output_type": "display_data"
    },
    {
     "name": "stdout",
     "output_type": "stream",
     "text": [
      "(1000, 5)\n"
     ]
    }
   ],
   "source": [
    "np.random.seed(1234)\n",
    "df['col_2'] = np.random.uniform(-3, 3, df.shape[0])\n",
    "np.random.seed(1233)\n",
    "df['col_3'] = np.random.uniform(-3, 3, df.shape[0])\n",
    "display(df.head())\n",
    "print(df.shape)"
   ]
  },
  {
   "cell_type": "code",
   "execution_count": 111,
   "metadata": {},
   "outputs": [
    {
     "data": {
      "image/png": "[encoded data removed]",
      "text/plain": [
       "<Figure size 329.625x288 with 1 Axes>"
      ]
     },
     "metadata": {},
     "output_type": "display_data"
    }
   ],
   "source": [
    "plot(df,'col_0', 'col_2')"
   ]
  },
  {
   "cell_type": "code",
   "execution_count": 112,
   "metadata": {},
   "outputs": [
    {
     "name": "stderr",
     "output_type": "stream",
     "text": [
      "ERROR:root:The type of model used <class 'sklearn.ensemble._forest.RandomForestClassifier'> is not supported for fast_version, the classic version will be re-activated.\n",
      "[I 201030 13:27:20 __init__:145] Starting score 0.9467378533174093\n",
      "[I 201030 13:27:25 __init__:167] New base line score: 0.9467633467252557\n",
      "[I 201030 13:27:28 __init__:167] New base line score: 0.9467633467252557\n"
     ]
    },
    {
     "name": "stdout",
     "output_type": "stream",
     "text": [
      "Wall time: 9.21 s\n"
     ]
    }
   ],
   "source": [
    "%%time\n",
    "f = testFeatureSelector(df=df, target_col='y', log_level=logging.INFO)\n",
    "list_kept_features = f.featureSelectionCV(small_is_better=False, scoring_metric='f1', cv=5)\n"
   ]
  },
  {
   "cell_type": "code",
   "execution_count": 113,
   "metadata": {},
   "outputs": [
    {
     "data": {
      "text/plain": [
       "Index(['col_0', 'col_1'], dtype='object')"
      ]
     },
     "execution_count": 113,
     "metadata": {},
     "output_type": "execute_result"
    }
   ],
   "source": [
    "list_kept_features"
   ]
  },
  {
   "cell_type": "markdown",
   "metadata": {},
   "source": [
    "<b> we can see that the random values has been deleted </b>"
   ]
  }
 ],
 "metadata": {
  "kernelspec": {
   "display_name": "Python 3",
   "language": "python",
   "name": "python3"
  },
  "language_info": {
   "codemirror_mode": {
    "name": "ipython",
    "version": 3
   },
   "file_extension": ".py",
   "mimetype": "text/x-python",
   "name": "python",
   "nbconvert_exporter": "python",
   "pygments_lexer": "ipython3",
   "version": "3.6.9"
  }
 },
 "nbformat": 4,
 "nbformat_minor": 4
}
