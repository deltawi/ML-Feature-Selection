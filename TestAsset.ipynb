{
 "cells": [
  {
   "cell_type": "markdown",
   "metadata": {},
   "source": [
    "# Practical example on how to use this asset\n",
    "\n",
    "\n",
    "## Create your child class \n",
    "The first thing to do is to create a class that inherets the one in MLFeatureSelection module.\n",
    "\n",
    "You need to implement the function **build_model()** and prepare you date to suit your use case."
   ]
  },
  {
   "cell_type": "markdown",
   "metadata": {},
   "source": [
    "# Crossvalidation method"
   ]
  },
  {
   "cell_type": "code",
   "execution_count": 1,
   "metadata": {},
   "outputs": [
    {
     "name": "stdout",
     "output_type": "stream",
     "text": [
      "Building \u001b[36mmlfeatureselection\u001b[0m (\u001b[39;1m2.3\u001b[0m)\n",
      "  - Building \u001b[34msdist\u001b[0m\n",
      "  - Built \u001b[32mmlfeatureselection-2.3.tar.gz\u001b[0m\n",
      "  - Building \u001b[34mwheel\u001b[0m\n",
      "  - Built \u001b[32mmlfeatureselection-2.3-py3-none-any.whl\u001b[0m\n"
     ]
    }
   ],
   "source": [
    "!pip install poetry --quiet\n",
    "!poetry build"
   ]
  },
  {
   "cell_type": "code",
   "execution_count": 3,
   "metadata": {},
   "outputs": [],
   "source": [
    "!pip install ../dist/mlfeatureselection-2.3-py3-none-any.whl --quiet"
   ]
  },
  {
   "cell_type": "code",
   "execution_count": 4,
   "metadata": {},
   "outputs": [],
   "source": [
    "%load_ext autoreload\n",
    "%autoreload 2"
   ]
  },
  {
   "cell_type": "code",
   "execution_count": 5,
   "metadata": {},
   "outputs": [],
   "source": [
    "import pandas as pd\n",
    "from sklearn.model_selection import train_test_split\n",
    "from sklearn.preprocessing import OrdinalEncoder\n",
    "from sklearn.pipeline import Pipeline\n",
    "from sklearn.impute import SimpleImputer\n",
    "from sklearn.compose import ColumnTransformer\n",
    "from sklearn.linear_model import LogisticRegression\n",
    "import xgboost as xgb\n",
    "from sklearn import metrics\n",
    "from random import shuffle\n",
    "from feature_selection.selectors import FeatureSelector\n",
    "from logzero import logger\n",
    "import logging\n",
    "\n",
    "class testFeatureSelector(FeatureSelector):\n",
    "    def __init__(self, df, target_col, log_level=logging.INFO, custom_cv=None):\n",
    "        FeatureSelector.__init__(self, df, target_col, log_level)\n",
    "    \n",
    "    def build_model(self):\n",
    "        \"\"\"\n",
    "        Define your model here and return a model instance that implements \"fit\" method\n",
    "        \"\"\"\n",
    "        params = {\n",
    "            'seed': 2020,\n",
    "            'learning_rate': 0.01,\n",
    "            'n_estimators': 400,\n",
    "            'max_depth': 4,\n",
    "            'subsample': 0.7,\n",
    "            'colsample_bytree': 0.7\n",
    "        }\n",
    "        \n",
    "        clf = xgb.XGBClassifier(**params)\n",
    "        return clf\n",
    "\n",
    "    "
   ]
  },
  {
   "cell_type": "markdown",
   "metadata": {},
   "source": [
    "### Make you data ready for the training"
   ]
  },
  {
   "cell_type": "code",
   "execution_count": 6,
   "metadata": {},
   "outputs": [
    {
     "data": {
      "text/html": [
       "<div>\n",
       "<style scoped>\n",
       "    .dataframe tbody tr th:only-of-type {\n",
       "        vertical-align: middle;\n",
       "    }\n",
       "\n",
       "    .dataframe tbody tr th {\n",
       "        vertical-align: top;\n",
       "    }\n",
       "\n",
       "    .dataframe thead th {\n",
       "        text-align: right;\n",
       "    }\n",
       "</style>\n",
       "<table border=\"1\" class=\"dataframe\">\n",
       "  <thead>\n",
       "    <tr style=\"text-align: right;\">\n",
       "      <th></th>\n",
       "      <th>gender</th>\n",
       "      <th>hsc_b</th>\n",
       "      <th>etest_p</th>\n",
       "      <th>workex</th>\n",
       "      <th>degree_p</th>\n",
       "      <th>hsc_p</th>\n",
       "      <th>ssc_b</th>\n",
       "      <th>ssc_p</th>\n",
       "      <th>mba_p</th>\n",
       "      <th>specialisation</th>\n",
       "      <th>hsc_s</th>\n",
       "      <th>status</th>\n",
       "      <th>degree_t</th>\n",
       "    </tr>\n",
       "  </thead>\n",
       "  <tbody>\n",
       "    <tr>\n",
       "      <th>0</th>\n",
       "      <td>1.0</td>\n",
       "      <td>1.0</td>\n",
       "      <td>55.0</td>\n",
       "      <td>0.0</td>\n",
       "      <td>58.00</td>\n",
       "      <td>91.00</td>\n",
       "      <td>1.0</td>\n",
       "      <td>67.00</td>\n",
       "      <td>58.80</td>\n",
       "      <td>1.0</td>\n",
       "      <td>1.0</td>\n",
       "      <td>1</td>\n",
       "      <td>2.0</td>\n",
       "    </tr>\n",
       "    <tr>\n",
       "      <th>1</th>\n",
       "      <td>1.0</td>\n",
       "      <td>1.0</td>\n",
       "      <td>86.5</td>\n",
       "      <td>1.0</td>\n",
       "      <td>77.48</td>\n",
       "      <td>78.33</td>\n",
       "      <td>0.0</td>\n",
       "      <td>79.33</td>\n",
       "      <td>66.28</td>\n",
       "      <td>0.0</td>\n",
       "      <td>2.0</td>\n",
       "      <td>1</td>\n",
       "      <td>2.0</td>\n",
       "    </tr>\n",
       "    <tr>\n",
       "      <th>2</th>\n",
       "      <td>1.0</td>\n",
       "      <td>0.0</td>\n",
       "      <td>75.0</td>\n",
       "      <td>0.0</td>\n",
       "      <td>64.00</td>\n",
       "      <td>68.00</td>\n",
       "      <td>0.0</td>\n",
       "      <td>65.00</td>\n",
       "      <td>57.80</td>\n",
       "      <td>0.0</td>\n",
       "      <td>0.0</td>\n",
       "      <td>1</td>\n",
       "      <td>0.0</td>\n",
       "    </tr>\n",
       "    <tr>\n",
       "      <th>3</th>\n",
       "      <td>1.0</td>\n",
       "      <td>0.0</td>\n",
       "      <td>66.0</td>\n",
       "      <td>0.0</td>\n",
       "      <td>52.00</td>\n",
       "      <td>52.00</td>\n",
       "      <td>0.0</td>\n",
       "      <td>56.00</td>\n",
       "      <td>59.43</td>\n",
       "      <td>1.0</td>\n",
       "      <td>2.0</td>\n",
       "      <td>0</td>\n",
       "      <td>2.0</td>\n",
       "    </tr>\n",
       "    <tr>\n",
       "      <th>4</th>\n",
       "      <td>1.0</td>\n",
       "      <td>0.0</td>\n",
       "      <td>96.8</td>\n",
       "      <td>0.0</td>\n",
       "      <td>73.30</td>\n",
       "      <td>73.60</td>\n",
       "      <td>0.0</td>\n",
       "      <td>85.80</td>\n",
       "      <td>55.50</td>\n",
       "      <td>0.0</td>\n",
       "      <td>1.0</td>\n",
       "      <td>1</td>\n",
       "      <td>0.0</td>\n",
       "    </tr>\n",
       "  </tbody>\n",
       "</table>\n",
       "</div>"
      ],
      "text/plain": [
       "   gender  hsc_b  etest_p  workex  degree_p  hsc_p  ssc_b  ssc_p  mba_p  \\\n",
       "0     1.0    1.0     55.0     0.0     58.00  91.00    1.0  67.00  58.80   \n",
       "1     1.0    1.0     86.5     1.0     77.48  78.33    0.0  79.33  66.28   \n",
       "2     1.0    0.0     75.0     0.0     64.00  68.00    0.0  65.00  57.80   \n",
       "3     1.0    0.0     66.0     0.0     52.00  52.00    0.0  56.00  59.43   \n",
       "4     1.0    0.0     96.8     0.0     73.30  73.60    0.0  85.80  55.50   \n",
       "\n",
       "   specialisation  hsc_s  status  degree_t  \n",
       "0             1.0    1.0       1       2.0  \n",
       "1             0.0    2.0       1       2.0  \n",
       "2             0.0    0.0       1       0.0  \n",
       "3             1.0    2.0       0       2.0  \n",
       "4             0.0    1.0       1       0.0  "
      ]
     },
     "execution_count": 6,
     "metadata": {},
     "output_type": "execute_result"
    }
   ],
   "source": [
    "path = \"Placement_Data_Full_Class.csv\"\n",
    "\n",
    "df = pd.read_csv(path)\n",
    "list_columns = list(df.columns)\n",
    "shuffle(list_columns)\n",
    "df = df[list_columns]\n",
    "df.loc[df['status'] == 'Placed', 'status'] = 1\n",
    "df.loc[df['status'] == 'Not Placed', 'status'] = 0\n",
    "df[\"status\"]=df[\"status\"].astype('int')\n",
    "df.drop(['salary', 'sl_no'], axis=1, inplace = True)\n",
    "\n",
    "cat_vars = ['workex', 'specialisation', 'gender', 'ssc_b', 'hsc_s', 'hsc_b', \"degree_t\"]\n",
    "\n",
    "categorical_transformer = Pipeline(steps=[\n",
    "            ('imputer', SimpleImputer(strategy='constant', fill_value='missing')),\n",
    "            ('OrdEnc', OrdinalEncoder())])\n",
    "\n",
    "df[cat_vars] = categorical_transformer.fit_transform(df[cat_vars])\n",
    "df.head()"
   ]
  },
  {
   "cell_type": "markdown",
   "metadata": {},
   "source": [
    "### Testing the features selection"
   ]
  },
  {
   "cell_type": "code",
   "execution_count": 10,
   "metadata": {},
   "outputs": [
    {
     "name": "stderr",
     "output_type": "stream",
     "text": [
      "[I 201109 16:28:30 selectors:214] Starting score 0.9324150049563251\n",
      "[D 201109 16:28:32 selectors:231] Old score 0.9324150049563251, new score 0.9306507564504265\n",
      "[D 201109 16:28:32 selectors:257] The model is worse ==> keep gender\n",
      "[D 201109 16:28:35 selectors:231] Old score 0.9324150049563251, new score 0.9329875405346678\n",
      "[D 201109 16:28:35 selectors:242] Improvement or nothing changed ==> delete hsc_b\n",
      "[I 201109 16:28:38 selectors:254] New base line score: 0.9329875405346678\n",
      "[D 201109 16:28:38 selectors:147] list of deleted features : ['hsc_b']\n",
      "[D 201109 16:28:41 selectors:231] Old score 0.9329875405346678, new score 0.9358281443645403\n",
      "[D 201109 16:28:41 selectors:242] Improvement or nothing changed ==> delete etest_p\n",
      "[I 201109 16:28:44 selectors:254] New base line score: 0.9358281443645403\n",
      "[D 201109 16:28:44 selectors:147] list of deleted features : ['hsc_b', 'etest_p']\n",
      "[D 201109 16:28:47 selectors:231] Old score 0.9358281443645403, new score 0.9269069589989707\n",
      "[D 201109 16:28:47 selectors:257] The model is worse ==> keep workex\n",
      "[D 201109 16:28:50 selectors:231] Old score 0.9358281443645403, new score 0.9199966184969097\n",
      "[D 201109 16:28:50 selectors:257] The model is worse ==> keep degree_p\n",
      "[D 201109 16:28:54 selectors:231] Old score 0.9358281443645403, new score 0.923620405859707\n",
      "[D 201109 16:28:54 selectors:257] The model is worse ==> keep hsc_p\n",
      "[D 201109 16:28:59 selectors:231] Old score 0.9358281443645403, new score 0.9366942452397804\n",
      "[D 201109 16:28:59 selectors:242] Improvement or nothing changed ==> delete ssc_b\n",
      "[I 201109 16:29:03 selectors:254] New base line score: 0.9366942452397804\n",
      "[D 201109 16:29:03 selectors:147] list of deleted features : ['hsc_b', 'etest_p', 'ssc_b']\n",
      "[D 201109 16:29:07 selectors:231] Old score 0.9366942452397804, new score 0.8761496293780213\n",
      "[D 201109 16:29:07 selectors:257] The model is worse ==> keep ssc_p\n",
      "[D 201109 16:29:11 selectors:231] Old score 0.9366942452397804, new score 0.9254818396458783\n",
      "[D 201109 16:29:11 selectors:257] The model is worse ==> keep mba_p\n",
      "[D 201109 16:29:14 selectors:231] Old score 0.9366942452397804, new score 0.9358413046717441\n",
      "[D 201109 16:29:14 selectors:257] The model is worse ==> keep specialisation\n",
      "[D 201109 16:29:16 selectors:231] Old score 0.9366942452397804, new score 0.9364444547326402\n",
      "[D 201109 16:29:16 selectors:257] The model is worse ==> keep hsc_s\n",
      "[D 201109 16:29:20 selectors:231] Old score 0.9366942452397804, new score 0.9358578356835798\n",
      "[D 201109 16:29:20 selectors:257] The model is worse ==> keep degree_t\n"
     ]
    },
    {
     "name": "stdout",
     "output_type": "stream",
     "text": [
      "List of kept feature Index(['gender', 'workex', 'degree_p', 'hsc_p', 'ssc_p', 'mba_p',\n",
      "       'specialisation', 'hsc_s', 'degree_t'],\n",
      "      dtype='object'), 9 out of 12\n"
     ]
    }
   ],
   "source": [
    "f = testFeatureSelector(df=df, target_col='status', log_level=logging.DEBUG)\n",
    "list_kept_features, features_impact = f.feature_selection_cv(small_is_better=False, scoring_metric='roc_auc', cv=20)\n",
    "\n",
    "print(f\"List of kept feature {list_kept_features}, {len(list_kept_features)} out of {df.shape[1] - 1}\")"
   ]
  },
  {
   "cell_type": "markdown",
   "metadata": {},
   "source": [
    "What you can notice here is that the AUC improved when dropping some columns from **0.930 --> 0.935**"
   ]
  },
  {
   "cell_type": "markdown",
   "metadata": {},
   "source": [
    "### Testing the features selection with fast_vesion **Only available for xgboost**\n",
    "\n",
    "Use the argument `fast_version=True` in order to activate an accelerator that uses the feature_importance of xgboost to filter out the bottom features ordered by gain. \n",
    "\n",
    "The parameter`nb_ft` will be used to select features to experiment on after the first training of the model."
   ]
  },
  {
   "cell_type": "code",
   "execution_count": 6,
   "metadata": {},
   "outputs": [
    {
     "name": "stderr",
     "output_type": "stream",
     "text": [
      "[D 201109 13:29:28 selectors:139] list of deleted features : ['hsc_s', 'ssc_b']\n",
      "[I 201109 13:29:28 selectors:188] Starting score 0.9319841937570731\n",
      "[D 201109 13:29:31 selectors:201] Old score 0.9319841937570731, new score 0.9339359923791417\n",
      "[D 201109 13:29:31 selectors:204] Improvement or nothing changed ==> delete hsc_b\n",
      "[I 201109 13:29:34 selectors:212] New base line score: 0.9339359923791417\n",
      "[D 201109 13:29:34 selectors:139] list of deleted features : ['hsc_s', 'ssc_b', 'hsc_b']\n",
      "[D 201109 13:29:36 selectors:201] Old score 0.9339359923791417, new score 0.9317701368656561\n",
      "[D 201109 13:29:36 selectors:215] The model is worse ==> keep gender\n",
      "[D 201109 13:29:39 selectors:201] Old score 0.9339359923791417, new score 0.9333070480852012\n",
      "[D 201109 13:29:39 selectors:215] The model is worse ==> keep degree_t\n",
      "[D 201109 13:29:42 selectors:201] Old score 0.9339359923791417, new score 0.9312735225294254\n",
      "[D 201109 13:29:42 selectors:215] The model is worse ==> keep specialisation\n",
      "[D 201109 13:29:45 selectors:201] Old score 0.9339359923791417, new score 0.9262005191248871\n",
      "[D 201109 13:29:45 selectors:215] The model is worse ==> keep workex\n",
      "[D 201109 13:29:49 selectors:201] Old score 0.9339359923791417, new score 0.9380236345291891\n",
      "[D 201109 13:29:49 selectors:204] Improvement or nothing changed ==> delete etest_p\n",
      "[I 201109 13:29:51 selectors:212] New base line score: 0.9380236345291891\n",
      "[D 201109 13:29:51 selectors:139] list of deleted features : ['hsc_s', 'ssc_b', 'hsc_b', 'etest_p']\n",
      "[D 201109 13:29:54 selectors:201] Old score 0.9380236345291891, new score 0.8789283643344085\n",
      "[D 201109 13:29:54 selectors:215] The model is worse ==> keep ssc_p\n",
      "[D 201109 13:29:57 selectors:201] Old score 0.9380236345291891, new score 0.9253760372497309\n",
      "[D 201109 13:29:57 selectors:215] The model is worse ==> keep hsc_p\n",
      "[D 201109 13:30:00 selectors:201] Old score 0.9380236345291891, new score 0.9197558544428921\n",
      "[D 201109 13:30:00 selectors:215] The model is worse ==> keep degree_p\n",
      "[D 201109 13:30:03 selectors:201] Old score 0.9380236345291891, new score 0.9265581953130784\n",
      "[D 201109 13:30:03 selectors:215] The model is worse ==> keep mba_p\n"
     ]
    },
    {
     "name": "stdout",
     "output_type": "stream",
     "text": [
      "CPU times: user 6min 17s, sys: 17 s, total: 6min 34s\n",
      "Wall time: 39 s\n",
      "List of kept feature Index(['gender', 'degree_t', 'specialisation', 'workex', 'ssc_p', 'hsc_p',\n",
      "       'degree_p', 'mba_p'],\n",
      "      dtype='object'), 8 out of 12\n"
     ]
    }
   ],
   "source": [
    "path = \"Placement_Data_Full_Class.csv\"\n",
    "f = testFeatureSelector(df=df, target_col='status', log_level=logging.DEBUG)\n",
    "%time list_kept_features, features_impact = f.featureSelectionCV(small_is_better=False, scoring_metric='roc_auc', cv=20, fast_version=True, nb_ft=7)\n",
    "\n",
    "print(f\"List of kept feature {list_kept_features}, {len(list_kept_features)} out of {df.shape[1] - 1}\")"
   ]
  },
  {
   "cell_type": "markdown",
   "metadata": {},
   "source": [
    "### Use your own Cross-Validation function\n",
    "\n",
    "The class must implement split that yields `x_train, y_train, x_test, y_test`\n",
    "In the example bellow, we are stratifying the kfolds using a column \"groups\"\n",
    "\n",
    "**Note**: the framework uses the inner function `split(X, y)`, if other parameters are required they should be added in\n",
    "the custom class like we've donne here with `groups`. "
   ]
  },
  {
   "cell_type": "code",
   "execution_count": 7,
   "metadata": {},
   "outputs": [],
   "source": [
    "from sklearn.model_selection import StratifiedKFold\n",
    "\n",
    "\n",
    "class CustomGroupSplit(StratifiedKFold):\n",
    "    \n",
    "    def __init__(self, groups, n_splits, random_state):\n",
    "        super(CustomGroupSplit, self).__init__(n_splits=n_splits, random_state=random_state)\n",
    "        self.groups = groups\n",
    "    \n",
    "    def split(self, X, y, groups=None):\n",
    "        return super(CustomGroupSplit, self).split(X, y, self.groups)"
   ]
  },
  {
   "cell_type": "code",
   "execution_count": 8,
   "metadata": {},
   "outputs": [
    {
     "name": "stderr",
     "output_type": "stream",
     "text": [
      "/Users/mehditantaoui/anaconda3/envs/persodev/lib/python3.7/site-packages/sklearn/model_selection/_split.py:297: FutureWarning: Setting a random_state has no effect since shuffle is False. This will raise an error in 0.24. You should leave random_state to its default (None), or set shuffle=True.\n",
      "  FutureWarning\n",
      "[D 201109 13:30:07 selectors:139] list of deleted features : ['hsc_s', 'ssc_b']\n",
      "[I 201109 13:30:07 selectors:188] Starting score 0.9319841937570731\n",
      "[D 201109 13:30:09 selectors:201] Old score 0.9319841937570731, new score 0.9339359923791417\n",
      "[D 201109 13:30:09 selectors:204] Improvement or nothing changed ==> delete hsc_b\n",
      "[I 201109 13:30:11 selectors:212] New base line score: 0.9339359923791417\n",
      "[D 201109 13:30:11 selectors:139] list of deleted features : ['hsc_s', 'ssc_b', 'hsc_b']\n",
      "[D 201109 13:30:14 selectors:201] Old score 0.9339359923791417, new score 0.9317701368656561\n",
      "[D 201109 13:30:14 selectors:215] The model is worse ==> keep gender\n",
      "[D 201109 13:30:16 selectors:201] Old score 0.9339359923791417, new score 0.9333070480852012\n",
      "[D 201109 13:30:16 selectors:215] The model is worse ==> keep degree_t\n",
      "[D 201109 13:30:19 selectors:201] Old score 0.9339359923791417, new score 0.9312735225294254\n",
      "[D 201109 13:30:19 selectors:215] The model is worse ==> keep specialisation\n",
      "[D 201109 13:30:21 selectors:201] Old score 0.9339359923791417, new score 0.9262005191248871\n",
      "[D 201109 13:30:21 selectors:215] The model is worse ==> keep workex\n",
      "[D 201109 13:30:24 selectors:201] Old score 0.9339359923791417, new score 0.9380236345291891\n",
      "[D 201109 13:30:24 selectors:204] Improvement or nothing changed ==> delete etest_p\n",
      "[I 201109 13:30:26 selectors:212] New base line score: 0.9380236345291891\n",
      "[D 201109 13:30:26 selectors:139] list of deleted features : ['hsc_s', 'ssc_b', 'hsc_b', 'etest_p']\n",
      "[D 201109 13:30:28 selectors:201] Old score 0.9380236345291891, new score 0.8789283643344085\n",
      "[D 201109 13:30:28 selectors:215] The model is worse ==> keep ssc_p\n",
      "[D 201109 13:30:31 selectors:201] Old score 0.9380236345291891, new score 0.9253760372497309\n",
      "[D 201109 13:30:31 selectors:215] The model is worse ==> keep hsc_p\n",
      "[D 201109 13:30:34 selectors:201] Old score 0.9380236345291891, new score 0.9197558544428921\n",
      "[D 201109 13:30:34 selectors:215] The model is worse ==> keep degree_p\n",
      "[D 201109 13:30:36 selectors:201] Old score 0.9380236345291891, new score 0.9265581953130784\n",
      "[D 201109 13:30:36 selectors:215] The model is worse ==> keep mba_p\n"
     ]
    },
    {
     "name": "stdout",
     "output_type": "stream",
     "text": [
      "CPU times: user 5min 32s, sys: 13.1 s, total: 5min 46s\n",
      "Wall time: 33.2 s\n",
      "List of kept feature Index(['gender', 'degree_t', 'specialisation', 'workex', 'ssc_p', 'hsc_p',\n",
      "       'degree_p', 'mba_p'],\n",
      "      dtype='object'), 8 out of 12\n"
     ]
    }
   ],
   "source": [
    "custom_cv = CustomGroupSplit(groups=df.gender, n_splits=20, random_state=2020)\n",
    "    \n",
    "path = \"Placement_Data_Full_Class.csv\"\n",
    "f = testFeatureSelector(df=df, target_col='status', log_level=logging.DEBUG, custom_cv=custom_cv)\n",
    "%time list_kept_features, features_impact = f.featureSelectionCV(small_is_better=False, scoring_metric='roc_auc', cv=20, fast_version=True, nb_ft=7)\n",
    "\n",
    "print(f\"List of kept feature {list_kept_features}, {len(list_kept_features)} out of {df.shape[1] - 1}\")"
   ]
  },
  {
   "cell_type": "markdown",
   "metadata": {},
   "source": [
    "### Analyse your features impact "
   ]
  },
  {
   "cell_type": "code",
   "execution_count": 34,
   "metadata": {},
   "outputs": [
    {
     "data": {
      "image/png": "[encoded data removed]",
      "text/plain": [
       "<Figure size 504x504 with 1 Axes>"
      ]
     },
     "metadata": {
      "needs_background": "light"
     },
     "output_type": "display_data"
    }
   ],
   "source": [
    "import matplotlib.pyplot as plt\n",
    "%matplotlib inline\n",
    "\n",
    "ft_impact = pd.DataFrame(features_impact).sort_values('roc_auc gain', ascending=True)\n",
    "_ = plt.figure(figsize=(7,7))\n",
    "plt.barh(ft_impact.feature, ft_impact['roc_auc gain']*100, color=(ft_impact['roc_auc gain']>0).map({True: 'b', False: 'r'}))\n",
    "plt.title(\"Features impact: AUC gain in %\")\n",
    "plt.show()"
   ]
  },
  {
   "cell_type": "markdown",
   "metadata": {},
   "source": [
    "# Working with Sklearn Pipelines"
   ]
  },
  {
   "cell_type": "code",
   "execution_count": 9,
   "metadata": {},
   "outputs": [
    {
     "name": "stdout",
     "output_type": "stream",
     "text": [
      "The autoreload extension is already loaded. To reload it, use:\n",
      "  %reload_ext autoreload\n"
     ]
    }
   ],
   "source": [
    "%load_ext autoreload\n",
    "%autoreload 2"
   ]
  },
  {
   "cell_type": "code",
   "execution_count": 10,
   "metadata": {},
   "outputs": [],
   "source": [
    "import pandas as pd\n",
    "from sklearn.model_selection import train_test_split\n",
    "from sklearn.preprocessing import OrdinalEncoder, StandardScaler\n",
    "from sklearn.pipeline import Pipeline\n",
    "from sklearn.impute import SimpleImputer\n",
    "from sklearn.compose import ColumnTransformer\n",
    "from sklearn.linear_model import LogisticRegression\n",
    "import xgboost as xgb\n",
    "from sklearn import metrics\n",
    "from random import shuffle\n",
    "from feature_selection.selectors import FeatureSelector\n",
    "from logzero import logger\n",
    "import logging\n",
    "\n",
    "class testFeatureSelector(FeatureSelector):\n",
    "    def __init__(self, df, target_col, log_level=logging.INFO):\n",
    "        FeatureSelector.__init__(self, df, target_col, log_level)\n",
    "        self.current_col_candidate = ''\n",
    "        \n",
    "    \n",
    "    def action_on_update(self, cols_to_drop):\n",
    "        # Here we add the current col so that it can be removed from the pipeline\n",
    "        self.current_col_candidate = cols_to_drop[0]\n",
    "    \n",
    "    def build_model(self):\n",
    "        \"\"\"\n",
    "        Define your model here and return a model instance that implements \"fit\" method\n",
    "        \"\"\"\n",
    "        params = {\n",
    "            'seed': 2020,\n",
    "            'learning_rate': 0.01,\n",
    "            'n_estimators': 400,\n",
    "            'max_depth': 4,\n",
    "            'subsample': 0.7,\n",
    "            'colsample_bytree': 0.7\n",
    "        }\n",
    "        \n",
    "        cat_vars = ['workex', 'specialisation', 'gender', 'ssc_b', 'hsc_s', 'hsc_b', \"degree_t\"]\n",
    "        num_vars = ['degree_p', 'ssc_p', 'etest_p', 'mba_p', 'hsc_p']\n",
    "        \n",
    "        # Transformer for numerical variables\n",
    "        numeric_transformer = Pipeline(steps=[\n",
    "            ('imputer', SimpleImputer(strategy='median')),\n",
    "            ('scaler', StandardScaler())])\n",
    "\n",
    "        # Transformer for categorical variables\n",
    "        categorical_transformer = Pipeline(steps=[\n",
    "            ('imputer', SimpleImputer(strategy='constant')),\n",
    "            ('OrdEnc', OrdinalEncoder())])\n",
    "\n",
    "        # Here we update the num_vars and cat_vars:\n",
    "        # list_of_deleted_col: inner object refering to columns already deleted\n",
    "        # current_col_candidate: string that refers to the current column being evaluated.\n",
    "        # We make sure that none of the two above are in num_vars nor cat_vars\n",
    "        preprocessor = ColumnTransformer(\n",
    "            transformers=[\n",
    "                ('num', numeric_transformer, [col for col in num_vars if (col not in self.list_of_deleted_col) and col != self.current_col_candidate]),\n",
    "                ('cat', categorical_transformer, [col for col in cat_vars if (col not in self.list_of_deleted_col) and col != self.current_col_candidate])])\n",
    "\n",
    "        clf = Pipeline(steps=[('preprocessor', preprocessor),\n",
    "                      ('classifier', xgb.XGBClassifier(**params))])\n",
    "        return clf\n",
    "\n",
    "    "
   ]
  },
  {
   "cell_type": "markdown",
   "metadata": {},
   "source": [
    "### Make you data ready for the training"
   ]
  },
  {
   "cell_type": "code",
   "execution_count": 11,
   "metadata": {},
   "outputs": [
    {
     "data": {
      "text/html": [
       "<div>\n",
       "<style scoped>\n",
       "    .dataframe tbody tr th:only-of-type {\n",
       "        vertical-align: middle;\n",
       "    }\n",
       "\n",
       "    .dataframe tbody tr th {\n",
       "        vertical-align: top;\n",
       "    }\n",
       "\n",
       "    .dataframe thead th {\n",
       "        text-align: right;\n",
       "    }\n",
       "</style>\n",
       "<table border=\"1\" class=\"dataframe\">\n",
       "  <thead>\n",
       "    <tr style=\"text-align: right;\">\n",
       "      <th></th>\n",
       "      <th>degree_t</th>\n",
       "      <th>gender</th>\n",
       "      <th>hsc_b</th>\n",
       "      <th>mba_p</th>\n",
       "      <th>workex</th>\n",
       "      <th>hsc_s</th>\n",
       "      <th>specialisation</th>\n",
       "      <th>status</th>\n",
       "      <th>etest_p</th>\n",
       "      <th>ssc_p</th>\n",
       "      <th>degree_p</th>\n",
       "      <th>hsc_p</th>\n",
       "      <th>ssc_b</th>\n",
       "    </tr>\n",
       "  </thead>\n",
       "  <tbody>\n",
       "    <tr>\n",
       "      <th>0</th>\n",
       "      <td>Sci&amp;Tech</td>\n",
       "      <td>M</td>\n",
       "      <td>Others</td>\n",
       "      <td>58.80</td>\n",
       "      <td>No</td>\n",
       "      <td>Commerce</td>\n",
       "      <td>Mkt&amp;HR</td>\n",
       "      <td>1</td>\n",
       "      <td>55.0</td>\n",
       "      <td>67.00</td>\n",
       "      <td>58.00</td>\n",
       "      <td>91.00</td>\n",
       "      <td>Others</td>\n",
       "    </tr>\n",
       "    <tr>\n",
       "      <th>1</th>\n",
       "      <td>Sci&amp;Tech</td>\n",
       "      <td>M</td>\n",
       "      <td>Others</td>\n",
       "      <td>66.28</td>\n",
       "      <td>Yes</td>\n",
       "      <td>Science</td>\n",
       "      <td>Mkt&amp;Fin</td>\n",
       "      <td>1</td>\n",
       "      <td>86.5</td>\n",
       "      <td>79.33</td>\n",
       "      <td>77.48</td>\n",
       "      <td>78.33</td>\n",
       "      <td>Central</td>\n",
       "    </tr>\n",
       "    <tr>\n",
       "      <th>2</th>\n",
       "      <td>Comm&amp;Mgmt</td>\n",
       "      <td>M</td>\n",
       "      <td>Central</td>\n",
       "      <td>57.80</td>\n",
       "      <td>No</td>\n",
       "      <td>Arts</td>\n",
       "      <td>Mkt&amp;Fin</td>\n",
       "      <td>1</td>\n",
       "      <td>75.0</td>\n",
       "      <td>65.00</td>\n",
       "      <td>64.00</td>\n",
       "      <td>68.00</td>\n",
       "      <td>Central</td>\n",
       "    </tr>\n",
       "    <tr>\n",
       "      <th>3</th>\n",
       "      <td>Sci&amp;Tech</td>\n",
       "      <td>M</td>\n",
       "      <td>Central</td>\n",
       "      <td>59.43</td>\n",
       "      <td>No</td>\n",
       "      <td>Science</td>\n",
       "      <td>Mkt&amp;HR</td>\n",
       "      <td>0</td>\n",
       "      <td>66.0</td>\n",
       "      <td>56.00</td>\n",
       "      <td>52.00</td>\n",
       "      <td>52.00</td>\n",
       "      <td>Central</td>\n",
       "    </tr>\n",
       "    <tr>\n",
       "      <th>4</th>\n",
       "      <td>Comm&amp;Mgmt</td>\n",
       "      <td>M</td>\n",
       "      <td>Central</td>\n",
       "      <td>55.50</td>\n",
       "      <td>No</td>\n",
       "      <td>Commerce</td>\n",
       "      <td>Mkt&amp;Fin</td>\n",
       "      <td>1</td>\n",
       "      <td>96.8</td>\n",
       "      <td>85.80</td>\n",
       "      <td>73.30</td>\n",
       "      <td>73.60</td>\n",
       "      <td>Central</td>\n",
       "    </tr>\n",
       "  </tbody>\n",
       "</table>\n",
       "</div>"
      ],
      "text/plain": [
       "    degree_t gender    hsc_b  mba_p workex     hsc_s specialisation  status  \\\n",
       "0   Sci&Tech      M   Others  58.80     No  Commerce         Mkt&HR       1   \n",
       "1   Sci&Tech      M   Others  66.28    Yes   Science        Mkt&Fin       1   \n",
       "2  Comm&Mgmt      M  Central  57.80     No      Arts        Mkt&Fin       1   \n",
       "3   Sci&Tech      M  Central  59.43     No   Science         Mkt&HR       0   \n",
       "4  Comm&Mgmt      M  Central  55.50     No  Commerce        Mkt&Fin       1   \n",
       "\n",
       "   etest_p  ssc_p  degree_p  hsc_p    ssc_b  \n",
       "0     55.0  67.00     58.00  91.00   Others  \n",
       "1     86.5  79.33     77.48  78.33  Central  \n",
       "2     75.0  65.00     64.00  68.00  Central  \n",
       "3     66.0  56.00     52.00  52.00  Central  \n",
       "4     96.8  85.80     73.30  73.60  Central  "
      ]
     },
     "execution_count": 11,
     "metadata": {},
     "output_type": "execute_result"
    }
   ],
   "source": [
    "path = \"Placement_Data_Full_Class.csv\"\n",
    "\n",
    "df = pd.read_csv(path)\n",
    "list_columns = list(df.columns)\n",
    "shuffle(list_columns)\n",
    "df = df[list_columns]\n",
    "df.loc[df['status'] == 'Placed', 'status'] = 1\n",
    "df.loc[df['status'] == 'Not Placed', 'status'] = 0\n",
    "df[\"status\"]=df[\"status\"].astype('int')\n",
    "df.drop(['salary', 'sl_no'], axis=1, inplace = True)\n",
    "\n",
    "df.head()"
   ]
  },
  {
   "cell_type": "code",
   "execution_count": null,
   "metadata": {},
   "outputs": [
    {
     "name": "stderr",
     "output_type": "stream",
     "text": [
      "[D 201109 13:30:36 selectors:161] Working with sklearn pipeline, model type: <class 'xgboost.sklearn.XGBClassifier'>\n",
      "[I 201109 13:30:40 selectors:188] Starting score 0.9328198608838942\n",
      "[D 201109 13:30:43 selectors:201] Old score 0.9328198608838942, new score 0.9316680516101263\n",
      "[D 201109 13:30:43 selectors:215] The model is worse ==> keep degree_t\n",
      "[D 201109 13:30:46 selectors:201] Old score 0.9328198608838942, new score 0.9301846905228321\n",
      "[D 201109 13:30:46 selectors:215] The model is worse ==> keep gender\n",
      "[D 201109 13:30:49 selectors:201] Old score 0.9328198608838942, new score 0.9333692327023206\n",
      "[D 201109 13:30:49 selectors:204] Improvement or nothing changed ==> delete hsc_b\n",
      "[I 201109 13:30:52 selectors:212] New base line score: 0.9333692327023206\n",
      "[D 201109 13:30:52 selectors:139] list of deleted features : ['hsc_b']\n"
     ]
    }
   ],
   "source": [
    "f = testFeatureSelector(df=df, target_col='status', log_level=logging.DEBUG)\n",
    "%time list_kept_features, features_impact = f.featureSelectionCV(small_is_better=False, scoring_metric='roc_auc', cv=20)\n",
    "\n",
    "print(f\"List of kept feature {list_kept_features}, {len(list_kept_features)} out of {df.shape[1] - 1}\")"
   ]
  },
  {
   "cell_type": "code",
   "execution_count": null,
   "metadata": {},
   "outputs": [],
   "source": []
  }
 ],
 "metadata": {
  "kernelspec": {
   "display_name": "Python 3",
   "language": "python",
   "name": "python3"
  },
  "language_info": {
   "codemirror_mode": {
    "name": "ipython",
    "version": 3
   },
   "file_extension": ".py",
   "mimetype": "text/x-python",
   "name": "python",
   "nbconvert_exporter": "python",
   "pygments_lexer": "ipython3",
   "version": "3.7.9"
  }
 },
 "nbformat": 4,
 "nbformat_minor": 4
}
